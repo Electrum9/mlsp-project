{
 "cells": [
  {
   "cell_type": "code",
   "execution_count": null,
   "metadata": {},
   "outputs": [],
   "source": [
    "import h5py\n",
    "import numpy as np\n",
    "from scipy.signal import butter, filtfilt, iirnotch\n",
    "import matplotlib.pyplot as plt\n",
    "from sklearn.decomposition import FastICA"
   ]
  },
  {
   "cell_type": "code",
   "execution_count": null,
   "metadata": {},
   "outputs": [],
   "source": [
    "def butter_bandpass(lowcut, highcut, fs, order=5):\n",
    "    nyq = 0.5 * fs\n",
    "    b, a = butter(order, [lowcut/ nyq, highcut/ nyq], btype='band', analog=False)\n",
    "    return b, a\n",
    "\n",
    "def butter_bandpass_filter(data, lowcut, highcut, fs, order=5):\n",
    "    b, a = butter_bandpass(lowcut, highcut, fs, order=order)\n",
    "    y = filtfilt(b, a, data)\n",
    "    return y\n",
    "\n",
    "def notch(notch_freq, samp_freq, quality_factor=30):\n",
    "    b, a = iirnotch(notch_freq, quality_factor, samp_freq)\n",
    "    return b, a\n",
    "\n",
    "def notch_filter(data, notch_fs, fs, q=30):\n",
    "    b, a = notch(notch_fs, fs, q)\n",
    "    y = filtfilt(b, a, data)\n",
    "    return y\n",
    "\n",
    "def filt_GRID(data, lowcut=20, highcut=500, fs=4000, order=3, notch_fs = 50, notch_q = 30):\n",
    "    filt_out = np.zeros_like(data)\n",
    "    for i in range(data.shape[0]):\n",
    "        filt_out[i,:] = notch_filter(butter_bandpass_filter(data[i,:], lowcut, highcut, fs, order=order), notch_fs, fs, notch_q)\n",
    "    return filt_out\n"
   ]
  },
  {
   "cell_type": "code",
   "execution_count": null,
   "metadata": {},
   "outputs": [],
   "source": [
    "def loadmat(filename):\n",
    "    file = h5py.File(filename, 'r')\n",
    "    return np.asarray(file['grid_crds']), np.asarray(file['out_mat'])\n",
    "\n",
    "if1_grid_crds, if1_out_mat = loadmat('./increasing force 1.mat')\n",
    "if2_grid_crds, if2_out_mat = loadmat('./increasing force 2.mat')\n",
    "sf1_grid_crds, sf1_out_mat = loadmat('./steady force 1.mat')"
   ]
  },
  {
   "cell_type": "code",
   "execution_count": null,
   "metadata": {},
   "outputs": [],
   "source": [
    "print(if1_out_mat.shape)"
   ]
  },
  {
   "cell_type": "code",
   "execution_count": null,
   "metadata": {},
   "outputs": [],
   "source": [
    "for i in range(if1_out_mat.shape[1]):\n",
    "    plt.plot(if1_out_mat[:, i])\n",
    "plt.show()"
   ]
  },
  {
   "cell_type": "code",
   "execution_count": null,
   "metadata": {},
   "outputs": [],
   "source": [
    "filtered_if1_out_mat = filt_GRID(if1_out_mat)"
   ]
  },
  {
   "cell_type": "code",
   "execution_count": null,
   "metadata": {},
   "outputs": [],
   "source": [
    "for i in range(filtered_if1_out_mat.shape[1]):\n",
    "    plt.plot(filtered_if1_out_mat[:, i])\n",
    "plt.show()"
   ]
  },
  {
   "cell_type": "code",
   "execution_count": null,
   "metadata": {},
   "outputs": [],
   "source": [
    "fastica = FastICA(n_components=filtered_if1_out_mat.shape[1])\n",
    "fastica_model = fastica.fit(filtered_if1_out_mat)"
   ]
  },
  {
   "cell_type": "code",
   "execution_count": null,
   "metadata": {},
   "outputs": [],
   "source": [
    "IC = fastica_model.transform(filtered_if1_out_mat)\n",
    "print(IC)"
   ]
  },
  {
   "cell_type": "code",
   "execution_count": null,
   "metadata": {},
   "outputs": [],
   "source": [
    "for i in range(IC.shape[1]):\n",
    "    plt.plot(IC[:, i])\n",
    "plt.show()"
   ]
  }
 ],
 "metadata": {
  "kernelspec": {
   "display_name": ".venv",
   "language": "python",
   "name": "python3"
  },
  "language_info": {
   "codemirror_mode": {
    "name": "ipython",
    "version": 3
   },
   "file_extension": ".py",
   "mimetype": "text/x-python",
   "name": "python",
   "nbconvert_exporter": "python",
   "pygments_lexer": "ipython3",
   "version": "3.11.4"
  }
 },
 "nbformat": 4,
 "nbformat_minor": 2
}
